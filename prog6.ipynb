{
 "cells": [
  {
   "cell_type": "code",
   "execution_count": null,
   "metadata": {},
   "outputs": [],
   "source": [
    "import matplotlib.pyplot as plt\n",
    "from sklearn.cluster import KMeans\n",
    "from sklearn.preprocessing import StandardScaler\n",
    "import pandas as pd\n",
    "\n",
    "df = pd.read_csv(\"income_clustering.csv\")\n",
    "df = df[[\"Age\", \"Income($)\"]]\n",
    "\n",
    "scaler = StandardScaler()\n",
    "sc_df = scaler.fit_transform(df)\n",
    "\n",
    "plt.scatter(df[\"Age\"], df[\"Income($)\"], color=\"r\", marker=\"*\")  ## execute this in separate cell\n",
    "plt.title(\"Age vs Income\")\n",
    "plt.xlabel(\"Age\")\n",
    "plt.ylabel(\"Income\")  #up to here\n",
    "\n",
    "k_range = range(1, 11)\n",
    "sse = []\n",
    "for k in k_range:\n",
    "    kmn = KMeans(n_clusters=k)\n",
    "    kmn.fit(sc_df)\n",
    "    sse.append(kmn.inertia_)\n",
    "\n",
    "plt.plot(k_range, sse, color=\"r\", marker=\".\")  #write this in separet cell here\n",
    "\n",
    "kmn = KMeans(n_clusters=3)\n",
    "clusters = kmn.fit_predict(sc_df)\n",
    "\n",
    "df['clusters'] = clusters\n",
    "df.head()\n",
    "\n",
    "cl1 = df[df['clusters'] == 0]\n",
    "cl2 = df[df['clusters'] == 1]\n",
    "cl3 = df[df['clusters'] == 2]\n",
    "\n",
    "centroids = scaler.inverse_transform(kmn.cluster_centers_)\n",
    "\n",
    "plt.title(\"K-means clustering of Income and Age data.\")  # write this in separate cell\n",
    "plt.xlabel(\"Age\")\n",
    "plt.ylabel(\"Income($)\")\n",
    "plt.scatter(cl1['Age'], cl1['Income($)'], color=\"r\", marker=\"s\", label=\"Cluster 1\")\n",
    "plt.scatter(cl2['Age'], cl2['Income($)'], color=\"b\", marker=\"+\", label=\"Cluster 2\")\n",
    "plt.scatter(cl3['Age'], cl3['Income($)'], color=\"g\", marker=\"v\", label=\"Cluster 3\")\n",
    "plt.scatter(centroids[:, 0], centroids[:, 1], label=\"Centroids\", s=200, marker=\"*\", color=\"black\")\n",
    "plt.legend()"
   ]
  }
 ],
 "metadata": {
  "kernelspec": {
   "display_name": "base",
   "language": "python",
   "name": "python3"
  },
  "language_info": {
   "codemirror_mode": {
    "name": "ipython",
    "version": 3
   },
   "file_extension": ".py",
   "mimetype": "text/x-python",
   "name": "python",
   "nbconvert_exporter": "python",
   "pygments_lexer": "ipython3",
   "version": "3.12.4"
  }
 },
 "nbformat": 4,
 "nbformat_minor": 2
}
